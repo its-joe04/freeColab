{
  "nbformat": 4,
  "nbformat_minor": 0,
  "metadata": {
    "colab": {
      "name": "freeLinuxVPS-colab.ipynb",
      "provenance": []
    },
    "kernelspec": {
      "name": "python3",
      "display_name": "Python 3"
    },
    "language_info": {
      "name": "python"
    }
  },
  "cells": [
    {
      "cell_type": "code",
      "metadata": {
        "id": "uC-OXOiq8koc"
      },
      "source": [
        "#Mounting google drive\n",
        "from google.colab import drive\n",
        "drive.mount(\"/content/drive\")\n",
        "\n",
        "#Installing\n",
        "!pip install colab_ssh\n",
        "\n",
        "#paste your ngrok token\n",
        "TOKEN = 'replace with your token'\n",
	"#Enter your password\n",
	"PASS = 'Your Password'\n",
        "\n",
        "from colab_ssh import launch_ssh\n",
        "launch_ssh(TOKEN, PASS)"
      ],
      "execution_count": null,
      "outputs": []
    },
    {
      "cell_type": "markdown",
      "metadata": {
        "id": "D7cysyMN-A-q"
      },
      "source": [
        "Procedures:\n",
        "===========\n",
        "\n",
        "1. Copy your ngrok token from your NGROK dashboard and past it above\n",
        "2. Run the above shell and wait for a few moments and then connect it to your google drive \n",
        "3. Ngrok will provide you an url and port number\n",
        "    \n",
        "    For Example,\n",
        "\n",
        "    X.tcp.ngrok.io - [X is a number (probaby between 1 to 8)] \n",
        "    \n",
        "    port - a random port number\n",
        "\n",
        "4. Then connect to free 12Hours vps with ssh \n",
        "\n",
        "    ssh -p (PORT) root@X.tcp.ngrok.io"
      ]
    }
  ]
}
